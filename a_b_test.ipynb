{
  "nbformat": 4,
  "nbformat_minor": 0,
  "metadata": {
    "colab": {
      "name": "a/b test",
      "provenance": [],
      "collapsed_sections": [],
      "authorship_tag": "ABX9TyOGJfhS19m+r2p844X/GTaW",
      "include_colab_link": true
    },
    "kernelspec": {
      "name": "python3",
      "display_name": "Python 3"
    },
    "language_info": {
      "name": "python"
    }
  },
  "cells": [
    {
      "cell_type": "markdown",
      "metadata": {
        "id": "view-in-github",
        "colab_type": "text"
      },
      "source": [
        "<a href=\"https://colab.research.google.com/github/guldenizcanatan/A-B-TEST/blob/main/a_b_test.ipynb\" target=\"_parent\"><img src=\"https://colab.research.google.com/assets/colab-badge.svg\" alt=\"Open In Colab\"/></a>"
      ]
    },
    {
      "cell_type": "code",
      "metadata": {
        "id": "Bbh8b0a6Iq4p"
      },
      "source": [
        "import pandas as pd\n",
        "import numpy as np\n",
        "pd.set_option('display.max_columns', None)\n",
        "\n",
        "control = pd.read_excel('/content/ab_testing_data.xlsx', sheet_name='Control Group')\n",
        "test = pd.read_excel('/content/ab_testing_data.xlsx', sheet_name='Test Group')\n"
      ],
      "execution_count": 1,
      "outputs": []
    },
    {
      "cell_type": "code",
      "metadata": {
        "colab": {
          "base_uri": "https://localhost:8080/",
          "height": 202
        },
        "id": "w95pYNE3cOol",
        "outputId": "98b38da3-3fe1-4e44-9405-36d2d979276e"
      },
      "source": [
        "control.head()"
      ],
      "execution_count": 2,
      "outputs": [
        {
          "output_type": "execute_result",
          "data": {
            "text/html": [
              "<div>\n",
              "<style scoped>\n",
              "    .dataframe tbody tr th:only-of-type {\n",
              "        vertical-align: middle;\n",
              "    }\n",
              "\n",
              "    .dataframe tbody tr th {\n",
              "        vertical-align: top;\n",
              "    }\n",
              "\n",
              "    .dataframe thead th {\n",
              "        text-align: right;\n",
              "    }\n",
              "</style>\n",
              "<table border=\"1\" class=\"dataframe\">\n",
              "  <thead>\n",
              "    <tr style=\"text-align: right;\">\n",
              "      <th></th>\n",
              "      <th>Impression</th>\n",
              "      <th>Click</th>\n",
              "      <th>Purchase</th>\n",
              "      <th>Earning</th>\n",
              "    </tr>\n",
              "  </thead>\n",
              "  <tbody>\n",
              "    <tr>\n",
              "      <th>0</th>\n",
              "      <td>82529.459271</td>\n",
              "      <td>6090.077317</td>\n",
              "      <td>665.211255</td>\n",
              "      <td>2311.277143</td>\n",
              "    </tr>\n",
              "    <tr>\n",
              "      <th>1</th>\n",
              "      <td>98050.451926</td>\n",
              "      <td>3382.861786</td>\n",
              "      <td>315.084895</td>\n",
              "      <td>1742.806855</td>\n",
              "    </tr>\n",
              "    <tr>\n",
              "      <th>2</th>\n",
              "      <td>82696.023549</td>\n",
              "      <td>4167.965750</td>\n",
              "      <td>458.083738</td>\n",
              "      <td>1797.827447</td>\n",
              "    </tr>\n",
              "    <tr>\n",
              "      <th>3</th>\n",
              "      <td>109914.400398</td>\n",
              "      <td>4910.882240</td>\n",
              "      <td>487.090773</td>\n",
              "      <td>1696.229178</td>\n",
              "    </tr>\n",
              "    <tr>\n",
              "      <th>4</th>\n",
              "      <td>108457.762630</td>\n",
              "      <td>5987.655811</td>\n",
              "      <td>441.034050</td>\n",
              "      <td>1543.720179</td>\n",
              "    </tr>\n",
              "  </tbody>\n",
              "</table>\n",
              "</div>"
            ],
            "text/plain": [
              "      Impression        Click    Purchase      Earning\n",
              "0   82529.459271  6090.077317  665.211255  2311.277143\n",
              "1   98050.451926  3382.861786  315.084895  1742.806855\n",
              "2   82696.023549  4167.965750  458.083738  1797.827447\n",
              "3  109914.400398  4910.882240  487.090773  1696.229178\n",
              "4  108457.762630  5987.655811  441.034050  1543.720179"
            ]
          },
          "metadata": {
            "tags": []
          },
          "execution_count": 2
        }
      ]
    },
    {
      "cell_type": "code",
      "metadata": {
        "colab": {
          "base_uri": "https://localhost:8080/",
          "height": 202
        },
        "id": "Sw9FkQMqbu5x",
        "outputId": "b78d5792-55d5-48dd-e400-54edf4bc1716"
      },
      "source": [
        "test.head()"
      ],
      "execution_count": 3,
      "outputs": [
        {
          "output_type": "execute_result",
          "data": {
            "text/html": [
              "<div>\n",
              "<style scoped>\n",
              "    .dataframe tbody tr th:only-of-type {\n",
              "        vertical-align: middle;\n",
              "    }\n",
              "\n",
              "    .dataframe tbody tr th {\n",
              "        vertical-align: top;\n",
              "    }\n",
              "\n",
              "    .dataframe thead th {\n",
              "        text-align: right;\n",
              "    }\n",
              "</style>\n",
              "<table border=\"1\" class=\"dataframe\">\n",
              "  <thead>\n",
              "    <tr style=\"text-align: right;\">\n",
              "      <th></th>\n",
              "      <th>Impression</th>\n",
              "      <th>Click</th>\n",
              "      <th>Purchase</th>\n",
              "      <th>Earning</th>\n",
              "    </tr>\n",
              "  </thead>\n",
              "  <tbody>\n",
              "    <tr>\n",
              "      <th>0</th>\n",
              "      <td>120103.503796</td>\n",
              "      <td>3216.547958</td>\n",
              "      <td>702.160346</td>\n",
              "      <td>1939.611243</td>\n",
              "    </tr>\n",
              "    <tr>\n",
              "      <th>1</th>\n",
              "      <td>134775.943363</td>\n",
              "      <td>3635.082422</td>\n",
              "      <td>834.054286</td>\n",
              "      <td>2929.405820</td>\n",
              "    </tr>\n",
              "    <tr>\n",
              "      <th>2</th>\n",
              "      <td>107806.620788</td>\n",
              "      <td>3057.143560</td>\n",
              "      <td>422.934258</td>\n",
              "      <td>2526.244877</td>\n",
              "    </tr>\n",
              "    <tr>\n",
              "      <th>3</th>\n",
              "      <td>116445.275526</td>\n",
              "      <td>4650.473911</td>\n",
              "      <td>429.033535</td>\n",
              "      <td>2281.428574</td>\n",
              "    </tr>\n",
              "    <tr>\n",
              "      <th>4</th>\n",
              "      <td>145082.516838</td>\n",
              "      <td>5201.387724</td>\n",
              "      <td>749.860442</td>\n",
              "      <td>2781.697521</td>\n",
              "    </tr>\n",
              "  </tbody>\n",
              "</table>\n",
              "</div>"
            ],
            "text/plain": [
              "      Impression        Click    Purchase      Earning\n",
              "0  120103.503796  3216.547958  702.160346  1939.611243\n",
              "1  134775.943363  3635.082422  834.054286  2929.405820\n",
              "2  107806.620788  3057.143560  422.934258  2526.244877\n",
              "3  116445.275526  4650.473911  429.033535  2281.428574\n",
              "4  145082.516838  5201.387724  749.860442  2781.697521"
            ]
          },
          "metadata": {
            "tags": []
          },
          "execution_count": 3
        }
      ]
    },
    {
      "cell_type": "markdown",
      "metadata": {
        "id": "Oc-bCkp1aTKO"
      },
      "source": [
        "95% Confidence Interval For Purchases "
      ]
    },
    {
      "cell_type": "code",
      "metadata": {
        "id": "YDy_Y5KWYsyD",
        "colab": {
          "base_uri": "https://localhost:8080/"
        },
        "outputId": "06dc24cd-9fdd-493f-9a74-e29fe256750f"
      },
      "source": [
        "import statsmodels.stats.api as sms\n",
        "\n",
        "sms.DescrStatsW(control[\"Purchase\"]).tconfint_mean()\n"
      ],
      "execution_count": 4,
      "outputs": [
        {
          "output_type": "stream",
          "text": [
            "/usr/local/lib/python3.7/dist-packages/statsmodels/tools/_testing.py:19: FutureWarning: pandas.util.testing is deprecated. Use the functions in the public API at pandas.testing instead.\n",
            "  import pandas.util.testing as tm\n"
          ],
          "name": "stderr"
        },
        {
          "output_type": "execute_result",
          "data": {
            "text/plain": [
              "(508.0041754264924, 593.7839421139709)"
            ]
          },
          "metadata": {
            "tags": []
          },
          "execution_count": 4
        }
      ]
    },
    {
      "cell_type": "code",
      "metadata": {
        "colab": {
          "base_uri": "https://localhost:8080/"
        },
        "id": "DtIzDqEMcZ_x",
        "outputId": "28ce90b9-3f4c-4092-9089-3ce5228b89ab"
      },
      "source": [
        "sms.DescrStatsW(test[\"Purchase\"]).tconfint_mean()"
      ],
      "execution_count": 5,
      "outputs": [
        {
          "output_type": "execute_result",
          "data": {
            "text/plain": [
              "(530.5670226990062, 633.6451705979289)"
            ]
          },
          "metadata": {
            "tags": []
          },
          "execution_count": 5
        }
      ]
    },
    {
      "cell_type": "markdown",
      "metadata": {
        "id": "sPRER332c6nW"
      },
      "source": [
        "Purchases in the control group are between 508 and 593 with 95% confidence. Purchases in the test group are between 530 and 633 with 95% confidence"
      ]
    },
    {
      "cell_type": "markdown",
      "metadata": {
        "id": "yAdyi6KAeteW"
      },
      "source": [
        "A/B Testing\n",
        "first, are the data normally distributed or are the variances homogeneous?\n",
        "then T test or nonparametric test\n"
      ]
    },
    {
      "cell_type": "code",
      "metadata": {
        "colab": {
          "base_uri": "https://localhost:8080/"
        },
        "id": "zgGZhXUzdyf6",
        "outputId": "ab33e877-9513-40a0-af97-7ab23ebe7e0a"
      },
      "source": [
        "# 1.1 Normallity Assumption\n",
        "############################\n",
        "\n",
        "# H0: Purchases in Control follows normal distribution.\n",
        "# H1: Purchases in Control Group do not follows normal distribution.\n",
        "# H0: Purchases in Test follows normal distribution.\n",
        "# H1: Purchases in Test Group do not follows normal distribution.\n",
        "\n",
        "from scipy.stats import shapiro\n",
        "\n",
        "\n",
        "test_statistic, pvalue = shapiro(control[\"Purchase\"])\n",
        "print('Test Statistic = %.4f, p-value = %.4f' % (test_statistic, pvalue))\n",
        "\n",
        "#If p-value < 0.05  we reject null hypothesis\n",
        "# p-value >  0.05 we can not reject null hypothesis\n",
        "# assumptions are provided for the control group.\n",
        "\n",
        "test_statistic, pvalue = shapiro(test[\"Purchase\"])\n",
        "print('Test Statistic = %.4f, p-value = %.4f' % (test_statistic, pvalue))\n",
        "\n",
        "#If p-value < 0.05 we reject null hypothesis\n",
        "# p-value > 0.05 we can not reject null hypothesis\n",
        "# # assumptions are provided for the test group.\n"
      ],
      "execution_count": 6,
      "outputs": [
        {
          "output_type": "stream",
          "text": [
            "Test Statistic = 0.9773, p-value = 0.5891\n",
            "Test Statistic = 0.9589, p-value = 0.1541\n"
          ],
          "name": "stdout"
        }
      ]
    },
    {
      "cell_type": "markdown",
      "metadata": {
        "id": "LVDU3NDBjv_e"
      },
      "source": [
        "since p-value is greater than 0.05 for both groups\n",
        "h0 cannot rejected, the assumption of normality is provided."
      ]
    },
    {
      "cell_type": "code",
      "metadata": {
        "colab": {
          "base_uri": "https://localhost:8080/"
        },
        "id": "0UdDbFN_jPQT",
        "outputId": "bdd5b060-06ed-4ad0-ba9e-0417503c972b"
      },
      "source": [
        "# 1.2 Homogeneity of Variances Assumption\n",
        "############################\n",
        "\n",
        "# H0: Variances are homogeneous\n",
        "# H1: Variances are not homogeneous\n",
        "\n",
        "from scipy import stats\n",
        "stats.levene(control[\"Purchase\"], test[\"Purchase\"])\n",
        "\n",
        "\n",
        "#If p-value <  0.05, H0 reject\n",
        "# p-value >  0.05 H0 can not reject\n",
        "# Variances are homogeneous.\n"
      ],
      "execution_count": 7,
      "outputs": [
        {
          "output_type": "execute_result",
          "data": {
            "text/plain": [
              "LeveneResult(statistic=2.6392694728747363, pvalue=0.10828588271874791)"
            ]
          },
          "metadata": {
            "tags": []
          },
          "execution_count": 7
        }
      ]
    },
    {
      "cell_type": "markdown",
      "metadata": {
        "id": "9XhNsWqWmR0k"
      },
      "source": [
        "The variance is homogeneous because the p-value is greater than 0.05"
      ]
    },
    {
      "cell_type": "markdown",
      "metadata": {
        "id": "G4Nc2VYHmpKU"
      },
      "source": [
        "*Since the assumption of normality and homogeneity is provided, we will perform an independent two-sample t-test.*"
      ]
    },
    {
      "cell_type": "code",
      "metadata": {
        "colab": {
          "base_uri": "https://localhost:8080/"
        },
        "id": "Wfgt-oc0mom7",
        "outputId": "b86f4b69-f6d0-4f9a-9901-a3cf558bccb9"
      },
      "source": [
        "# 2. Proose a Hypothesis\n",
        "############################\n",
        "\n",
        "\n",
        "# H0: 𝜇1=𝜇2 (There is no statistically significant difference between the means of purchase in the control and test groups)\n",
        "# H1: 𝜇1≠𝜇2 (There is a statistically significant difference between the means.)\n",
        "\n",
        "test_statistic, pvalue = stats.ttest_ind(control[\"Purchase\"], test[\"Purchase\"], equal_var=True)\n",
        "\n",
        "print('Test Statistic = %.4f, p-value = %.4f' % (test_statistic, pvalue))\n",
        "\n",
        "# If p-value <  0.05 H0 reject\n",
        "# If p-value >  0.05 H0 can not reject\n",
        "\n",
        "\n",
        "\n"
      ],
      "execution_count": 8,
      "outputs": [
        {
          "output_type": "stream",
          "text": [
            "Test Statistic = -0.9416, p-value = 0.3493\n"
          ],
          "name": "stdout"
        }
      ]
    },
    {
      "cell_type": "markdown",
      "metadata": {
        "id": "jbGYu9i0qea3"
      },
      "source": [
        " p-value is greater than 0.05, there is no statistically significant difference between the two groups with 95% confidence."
      ]
    }
  ]
}